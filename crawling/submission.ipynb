{
  "cells": [
    {
      "cell_type": "code",
      "execution_count": null,
      "metadata": {
        "colab": {
          "base_uri": "https://localhost:8080/"
        },
        "id": "DK3W7xSp8WZA",
        "outputId": "6df2a355-9c2e-48bb-c9bf-a82ab8ad3d39"
      },
      "outputs": [
        {
          "output_type": "stream",
          "name": "stdout",
          "text": [
            "Requirement already satisfied: requests in /usr/local/lib/python3.7/dist-packages (2.23.0)\n",
            "Requirement already satisfied: httplib2 in /usr/local/lib/python3.7/dist-packages (0.17.4)\n",
            "Requirement already satisfied: bs4 in /usr/local/lib/python3.7/dist-packages (0.0.1)\n",
            "Requirement already satisfied: urllib3!=1.25.0,!=1.25.1,<1.26,>=1.21.1 in /usr/local/lib/python3.7/dist-packages (from requests) (1.24.3)\n",
            "Requirement already satisfied: idna<3,>=2.5 in /usr/local/lib/python3.7/dist-packages (from requests) (2.10)\n",
            "Requirement already satisfied: certifi>=2017.4.17 in /usr/local/lib/python3.7/dist-packages (from requests) (2021.10.8)\n",
            "Requirement already satisfied: chardet<4,>=3.0.2 in /usr/local/lib/python3.7/dist-packages (from requests) (3.0.4)\n",
            "Requirement already satisfied: beautifulsoup4 in /usr/local/lib/python3.7/dist-packages (from bs4) (4.6.3)\n"
          ]
        }
      ],
      "source": [
        "%pip install requests httplib2 bs4"
      ]
    },
    {
      "cell_type": "markdown",
      "metadata": {
        "id": "GiFn1Tce8WZC"
      },
      "source": [
        "# 1. Crawler\n",
        "\n",
        "## 1.0. Related example\n",
        "\n",
        "This code shows `wget`-like tool written in python. Run it from console (`python wget.py`), make it work. Check the code, reuse, and modify for your needs."
      ]
    },
    {
      "cell_type": "code",
      "execution_count": null,
      "metadata": {
        "id": "0kTq3QHK8WZE"
      },
      "outputs": [],
      "source": [
        "# import argparse\n",
        "# import os\n",
        "# import re\n",
        "# import requests\n",
        "\n",
        "\n",
        "# def wget(url, filename):\n",
        "#     # allow redirects - in case file is relocated\n",
        "#     resp = requests.get(url, allow_redirects=True)\n",
        "#     # this can also be 2xx, but for simplicity now we stick to 200\n",
        "#     # you can also check for `resp.ok`\n",
        "#     if resp.status_code != 200:\n",
        "#         print(resp.status_code, resp.reason, 'for', url)\n",
        "#         return\n",
        "    \n",
        "#     # just to be cool and print something\n",
        "#     print(*[f\"{key}: {value}\" for key, value in resp.headers.items()], sep='\\n')\n",
        "#     print(\"something\")\n",
        "    \n",
        "#     # try to extract filename from url\n",
        "#     if filename is None:\n",
        "#         # start with http*, ends if ? or # appears (or none of)\n",
        "#         m = re.search(\"^http.*/([^/\\?#]*)[\\?#]?\", url)\n",
        "#         filename = m.group(1)\n",
        "#         if not filename:\n",
        "#             raise NameError(f\"Filename neither given, nor found for {url}\")\n",
        "\n",
        "#     # what will you do in case 2 websites store file with the same name?\n",
        "#     if os.path.exists(filename):\n",
        "#         raise OSError(f\"File {filename} already exists\")\n",
        "    \n",
        "#     with open(filename, 'wb') as f:\n",
        "#         f.write(resp.content)\n",
        "#         print(f\"File saved as {filename}\")\n",
        "\n",
        "\n",
        "# if __name__ == \"__main__\":\n",
        "#     parser = argparse.ArgumentParser(description='download file.')\n",
        "#     parser.add_argument(\"-O\", type=str, default=None, dest='filename', help=\"output file name. Default -- taken from resource\")\n",
        "#     parser.add_argument(\"url\", type=str, default=None, help=\"Provide URL here\")\n",
        "#     args = parser.parse_args()\n",
        "#     wget(args.url, args.filename)"
      ]
    },
    {
      "cell_type": "markdown",
      "metadata": {
        "id": "iNXcz9zU8WZG"
      },
      "source": [
        "### 1.0.1. How to parse a page?\n",
        "\n",
        "If you build a crawler, you might follow one of the approaches:\n",
        "1. search for URLs in the page, assuming this is just a text.\n",
        "2. search for URLs in the places where URLs should appear: `<a href=..`, `<img src=...`, `<iframe src=...` and so on.\n",
        "\n",
        "To follow the first approach you can rely on some good regular expression. [Like this](https://stackoverflow.com/a/3809435).\n",
        "\n",
        "To follow the second approach just read one of these: [short answer](https://stackoverflow.com/questions/1080411/retrieve-links-from-web-page-using-python-and-beautifulsoup) or [exhaustive explanation](https://hackersandslackers.com/scraping-urls-with-beautifulsoup/)."
      ]
    },
    {
      "cell_type": "markdown",
      "metadata": {
        "id": "SJFKk2Am8WZG"
      },
      "source": [
        "## 1.1. [15] Download and persist #\n",
        "Please complete a code for `load()`, `download()` and `persist()` methods of `Document` class. What they do:\n",
        "- for a given URL `download()` method downloads binary data and stores in `self.content`. It returns `True` for success, else `False`.\n",
        "- `persist()` method saves `self.content` somewhere in file system. We do it to avoid multiple downloads (for caching in other words).\n",
        "- `load()` method loads data from hard drive. Returns `True` for success.\n",
        "\n",
        "Tests checks that your code somehow works.\n",
        "\n",
        "**NB Passing the test doesn't mean you correctly completed the task.** These are **criteria, which have to be fullfilled**:\n",
        "1. URL is a unique identifier (as it is a subset of URI). Thus, documents with different URLs should be stored in different files. Typical errors: documents from the same domain are overwritten to the same file, URLs with similar endings are downloaded to the same file, etc.\n",
        "2. The document can be not only a text file, but also a binary. Pay attention that if you download `mp3` file, it still can be played. Hint: don't hurry to convert everything to text."
      ]
    },
    {
      "cell_type": "code",
      "execution_count": 39,
      "metadata": {
        "id": "7CPlDaEn8WZI"
      },
      "outputs": [],
      "source": [
        "import requests\n",
        "import httplib2\n",
        "from pathlib import Path\n",
        "from hashlib import sha512\n",
        "from bs4 import BeautifulSoup\n",
        "from urllib.parse import quote, urlparse\n",
        "\n",
        "\n",
        "def meta_redir(url, content):\n",
        "    soup = BeautifulSoup(content)\n",
        "\n",
        "    result = soup.find(\"meta\", attrs={\"http-equiv\": \"Refresh\"})\n",
        "    if result:\n",
        "        wait, text = result[\"content\"].split(\";\")\n",
        "        if text.strip().lower().startswith(\"url=\"):\n",
        "            redirect_url = text.split('=', maxsplit=1)[-1]\n",
        "            print(\n",
        "                f'root url {url} re url {redirect_url}, net loc {urlparse(url).netloc}')\n",
        "            new_url = urllib.parse.urljoin(\n",
        "                '{uri.scheme}://{uri.netloc}/'.format(uri=urlparse(url)), redirect_url)\n",
        "            print(f'new url {new_url}')\n",
        "            return new_url\n",
        "    return None\n",
        "\n",
        "\n",
        "def get_content(url):\n",
        "    h = httplib2.Http(\".cache\")\n",
        "    resp, content = h.request(url, \"GET\")\n",
        "\n",
        "    # follow the chain of redirects\n",
        "    new_url = meta_redir(url, content)\n",
        "    while new_url:\n",
        "        resp, content = h.request(new_url, \"GET\")\n",
        "    return content.decode()\n",
        "\n",
        "\n",
        "class Document:\n",
        "\n",
        "    def __init__(self, url):\n",
        "        self.url = url\n",
        "        parsed = urlparse(url)\n",
        "        Path('./').mkdir(exist_ok=True)\n",
        "        temp = quote(self.url).replace('/', '_')\n",
        "        temp = temp.replace('.', '_', (temp.count('.')-1))\n",
        "        self.file_name = f\"./{temp}\"\n",
        "\n",
        "    def get(self):\n",
        "        if not self.load():\n",
        "            if not self.download():\n",
        "                raise FileNotFoundError(self.url)\n",
        "            else:\n",
        "                self.persist()\n",
        "\n",
        "    def download(self):\n",
        "        if not bool(urlparse(self.url).netloc):\n",
        "            return False\n",
        "        try:\n",
        "            self.content = get_content(self.url)\n",
        "        except Exception as e:\n",
        "            print(e, \"on\", self.url)\n",
        "            return False\n",
        "        return True\n",
        "\n",
        "    def persist(self):\n",
        "        # TODO write document content to hard drive\n",
        "\n",
        "        try:\n",
        "            with open(self.file_name, 'wb') as f:\n",
        "                f.write(self.content.encode())\n",
        "        except Exception as e:\n",
        "            print(e)\n",
        "            return False\n",
        "        return True\n",
        "\n",
        "    def load(self):\n",
        "        # TODO load content from hard drive, store it in self.content and return True in case of success\n",
        "        try:\n",
        "            with open(self.file_name, 'rb') as f:\n",
        "                self.content = f.read().decode()\n",
        "        except:\n",
        "            return False\n",
        "        return True"
      ]
    },
    {
      "cell_type": "markdown",
      "metadata": {
        "id": "pjmfDFq18WZJ"
      },
      "source": [
        "### 1.1.1. Tests ###"
      ]
    },
    {
      "cell_type": "code",
      "execution_count": 40,
      "metadata": {
        "id": "WSuuJDfa8WZJ"
      },
      "outputs": [],
      "source": [
        "doc = Document('http://sprotasov.ru/data/iu.txt')\n",
        "\n",
        "doc.get()\n",
        "\n",
        "assert doc.content, \"Document download failed\"\n",
        "assert \"Code snippets, demos and labs for the course\" in str(doc.content), \"Document content error\"\n",
        "\n",
        "doc.get()\n",
        "assert doc.load(), \"Load should return true for saved document\"\n",
        "assert \"Code snippets, demos and labs for the course\" in str(doc.content), \"Document load from disk error\""
      ]
    },
    {
      "cell_type": "markdown",
      "metadata": {
        "id": "31ZKhUc_8WZK"
      },
      "source": [
        "## 1.2. [M][15] Account the caching policy\n",
        "\n",
        "Sometimes remote documents (especially when we speak about static content like `js` or `gif`) can swear that they will not change for some time. This is done by setting [Cache-Control response header](https://developer.mozilla.org/en-US/docs/Web/HTTP/Headers/Cache-Control)."
      ]
    },
    {
      "cell_type": "code",
      "execution_count": null,
      "metadata": {
        "id": "g0ipk_ZM8WZK"
      },
      "outputs": [],
      "source": [
        "# import requests\n",
        "# requests.get('https://polyfill.io/v3/polyfill.min.js').headers['Cache-Control']"
      ]
    },
    {
      "cell_type": "markdown",
      "metadata": {
        "id": "oV9HEc1l8WZK"
      },
      "source": [
        "Please study the documentation and implement a descendant to a `Document` class, which will refresh the document in case of expired cache even if the file is already on the hard drive."
      ]
    },
    {
      "cell_type": "code",
      "execution_count": null,
      "metadata": {
        "id": "08hc61xy8WZK"
      },
      "outputs": [],
      "source": [
        "# class CachedDocument(Document):\n",
        "    \n",
        "#     # TODO your code here\n",
        "#     pass    "
      ]
    },
    {
      "cell_type": "markdown",
      "metadata": {
        "id": "DcMv-0y48WZL"
      },
      "source": [
        "### 1.2.1. Tests\n",
        "\n",
        "Add logging in your code and show that your code behaves differently for documents with different caching policy."
      ]
    },
    {
      "cell_type": "code",
      "execution_count": null,
      "metadata": {
        "id": "QRQbNUXT8WZL"
      },
      "outputs": [],
      "source": [
        "# import time\n",
        "\n",
        "# doc = CachedDocument('https://polyfill.io/v3/polyfill.min.js')\n",
        "# doc.get()\n",
        "# time.sleep(2)\n",
        "# doc.get()\n",
        "# time.sleep(2)\n",
        "# doc.get()\n",
        "\n",
        "# doc = CachedDocument('https://yandex.ru/')\n",
        "# doc.get()\n",
        "# time.sleep(2)\n",
        "# doc.get()\n",
        "# time.sleep(2)\n",
        "# doc.get()"
      ]
    },
    {
      "cell_type": "markdown",
      "metadata": {
        "id": "qX9Cu7Du8WZL"
      },
      "source": [
        "## 1.3. [10] Parse HTML ##\n",
        "`BeautifulSoap` library is a de facto standard to parse XML and HTML documents in python. Use it to complete `parse()` method that extracts document contents. You should initialize:\n",
        "- `self.anchors` list of tuples `('text', 'url')` met in a document. Be aware, there exist relative links (e.g. `../content/pic.jpg`). Use `urllib.parse.urljoin()` to fix this issue.\n",
        "- `self.images` list of images met in a document. Again, links can be relative to current page.\n",
        "- `self.text` should keep plain text of the document without scripts, tags, comments and so on. You can refer to [this stackoverflow answer](https://stackoverflow.com/a/1983219) for details.\n",
        "\n",
        "**NB All these 3 criteria must be fulfilled to get full point for the task.**"
      ]
    },
    {
      "cell_type": "code",
      "execution_count": 18,
      "metadata": {
        "id": "Q3tNvJtu8WZM"
      },
      "outputs": [],
      "source": [
        "import urllib.parse\n",
        "from bs4 import BeautifulSoup\n",
        "from bs4.element import Comment\n",
        "\n",
        "targets = ['style', 'script', 'head', 'title', 'meta', '[document]']\n",
        "class HtmlDocument(Document):\n",
        "\n",
        "    def visible_tag(self, element):\n",
        "        if element.parent.name in targets:\n",
        "            return False\n",
        "        if isinstance(element, Comment):\n",
        "            return False\n",
        "        return True\n",
        "\n",
        "    def parse(self):\n",
        "        # TODO extract plain text, images and links from the document\n",
        "        soup = BeautifulSoup(self.content, 'html.parser')\n",
        "        self.text = \"\"\n",
        "        self.images = []\n",
        "        self.anchors = []\n",
        "\n",
        "        self.text = soup.findAll(text=True)\n",
        "        self.text = filter(self.visible_tag, self.text)\n",
        "        self.text = u' '.join(t.strip() for t in self.text)\n",
        "\n",
        "        for img in soup.findAll(\"img\"):\n",
        "            img_src = img.attrs.get('src')\n",
        "            if img_src is not None:\n",
        "                self.images.append(urllib.parse.urljoin(self.url, img_src))\n",
        "\n",
        "        for link in soup.findAll(\"a\", text=True, href=True):\n",
        "            if link['href'] and link.text:\n",
        "                self.anchors.append(\n",
        "                    (link.text, urllib.parse.urljoin(self.url, link['href'])))"
      ]
    },
    {
      "cell_type": "markdown",
      "metadata": {
        "id": "IFBsTc3U8WZM"
      },
      "source": [
        "### 1.3.1. Tests ###"
      ]
    },
    {
      "cell_type": "code",
      "execution_count": 19,
      "metadata": {
        "id": "Tc1Q2pBJ8WZM"
      },
      "outputs": [],
      "source": [
        "doc = HtmlDocument(\"http://sprotasov.ru\")\n",
        "doc.get()\n",
        "doc.parse()\n",
        "\n",
        "assert \"just few links\" in doc.text, \"Error parsing text\"\n",
        "assert \"http://sprotasov.ru/images/gb.svg\" in doc.images, \"Error parsing images\"\n",
        "assert any(p[1] == \"https://twitter.com/07C3\" for p in doc.anchors), \"Error parsing links\""
      ]
    },
    {
      "cell_type": "markdown",
      "metadata": {
        "id": "FZtHM8dN8WZN"
      },
      "source": [
        "## 1.4. [10] Document analysis ##\n",
        "Complete the code for `HtmlDocumentTextData` class. Implement word and sentence splitting (use any method you can propose). \n",
        "\n",
        "**Criteria of success**: \n",
        "1. Your `get_word_stats()` method should return `Counter` object.\n",
        "2. Don't forget to lowercase your words for counting.\n",
        "3. Sentences should be obtained inside `<body>` tag only."
      ]
    },
    {
      "cell_type": "code",
      "execution_count": 20,
      "metadata": {
        "id": "_jAB4FiN8WZN"
      },
      "outputs": [],
      "source": [
        "from collections import Counter\n",
        "\n",
        "targets = ['style', 'script', 'head', 'title', 'meta', '[document]']\n",
        "class HtmlDocumentTextData:\n",
        "\n",
        "    def __init__(self, url):\n",
        "        self.doc = HtmlDocument(url)\n",
        "        self.doc.get()\n",
        "        self.doc.parse()\n",
        "\n",
        "    def get_sentence(self):\n",
        "        # TODO extract plain text, images and links from the document\n",
        "        soup = BeautifulSoup(self.doc.content, 'html.parser')\n",
        "        res = []\n",
        "        body = soup.find('body')\n",
        "        if body is not None:\n",
        "            sentences = body.findAll(text=True)\n",
        "            sentences = filter(self.visible_tag, sentences)\n",
        "            for t in sentences:\n",
        "                res.extend(t.split('.'))\n",
        "        res = [t.strip() for t in res]\n",
        "        res = filter(''.__ne__, res)\n",
        "        return res\n",
        "\n",
        "    def visible_tag(self, element):\n",
        "        if element.parent.name in targets:\n",
        "            return False\n",
        "        if isinstance(element, Comment):\n",
        "            return False\n",
        "        return True\n",
        "\n",
        "    def get_word_stats(self):\n",
        "        # TODO return Counter object of the document, containing mapping {`word` -> count_in_doc}\n",
        "        sentences = self.get_sentence()\n",
        "        words = []\n",
        "        for sentence in sentences:\n",
        "            words.extend(sentence.split(' '))\n",
        "        words = [word.strip().lower() for word in words]\n",
        "        words = filter(''.__ne__, words)\n",
        "        return Counter(words)\n"
      ]
    },
    {
      "cell_type": "markdown",
      "metadata": {
        "id": "2y2NvTn38WZO"
      },
      "source": [
        "### 1.4.1. Tests ###"
      ]
    },
    {
      "cell_type": "code",
      "execution_count": 21,
      "metadata": {
        "colab": {
          "base_uri": "https://localhost:8080/"
        },
        "id": "yCZhFquz8WZO",
        "outputId": "6f9694d2-8c35-496e-e54b-52fcf4b46e0d"
      },
      "outputs": [
        {
          "output_type": "stream",
          "name": "stdout",
          "text": [
            "[('и', 59), ('в', 30), ('иннополис', 20), ('по', 16), ('2022', 15), ('на', 14), ('университет', 12), ('области', 10), ('с', 10), ('лаборатория', 10)]\n"
          ]
        }
      ],
      "source": [
        "doc = HtmlDocumentTextData(\"https://innopolis.university/\")\n",
        "\n",
        "print(doc.get_word_stats().most_common(10))\n",
        "assert [x for x in doc.get_word_stats().most_common(10) if x[0] == 'иннополис'], 'иннополис should be among most common'"
      ]
    },
    {
      "cell_type": "markdown",
      "metadata": {
        "id": "20LnvhvI8WZP"
      },
      "source": [
        "## 1.5. [M][35] Languages\n",
        "Maybe you heard, that there are multiple languages in the world. European languages, like Russian and English, use similar puctuation, but even in this family there is ¡Spanish!\n",
        "\n",
        "Other languages can use different punctiation rules, like **Arabic or [Thai](http://www.thai-language.com/ref/breaking-words)**.\n",
        "\n",
        "Your task is to support (at least) three languages (English, Arabic, and Thai) tokenization in your `HtmlDocumentTextData` class descendant.\n",
        "\n",
        "What should you do:\n",
        "1. Use any language dection techniques, e.g. [langdetect](https://pypi.org/project/langdetect/).\n",
        "2. Use language-specific tokenization tools, e.g. for [Thai](https://pythainlp.github.io/tutorials/notebooks/pythainlp_get_started.html#Tokenization-and-Segmentation) and [Arabic](https://github.com/CAMeL-Lab/camel_tools).\n",
        "3. Use these pages to test your code: [1](https://www.bangkokair.com/tha/baggage-allowance) and [2](https://alfajr-news.net/details/%D9%85%D8%B4%D8%B1%D9%88%D8%B9-%D8%AF%D9%8A%D9%85%D9%88%D9%82%D8%B1%D8%A7%D8%B7%D9%8A-%D9%81%D9%8A-%D8%A7%D9%84%D9%83%D9%88%D9%86%D8%BA%D8%B1%D8%B3-%D8%A7%D9%84%D8%A3%D9%85%D8%B1%D9%8A%D9%83%D9%8A-%D9%84%D9%85%D8%B9%D8%A7%D9%82%D8%A8%D8%A9-%D8%A8%D9%88%D8%AA%D9%8A%D9%86)."
      ]
    },
    {
      "cell_type": "code",
      "execution_count": null,
      "metadata": {
        "id": "1ChzWSKO8WZP"
      },
      "outputs": [],
      "source": [
        "# class MultilingualHtmlDocumentTextData(HtmlDocumentTextData):\n",
        "    \n",
        "#     #TODO your code here\n",
        "#     pass"
      ]
    },
    {
      "cell_type": "markdown",
      "metadata": {
        "id": "JAT8NAJ88WZQ"
      },
      "source": [
        "### 1.5.1. Tests"
      ]
    },
    {
      "cell_type": "code",
      "execution_count": null,
      "metadata": {
        "id": "y8i0-cPN8WZQ"
      },
      "outputs": [],
      "source": [
        "# doc = MultilingualHtmlDocumentTextData(\"https://www.bangkokair.com/tha/baggage-allowance\")\n",
        "# print(doc.get_word_stats().most_common(10))\n",
        "\n",
        "# doc = MultilingualHtmlDocumentTextData(\"https://alfajr-news.net/details/%D9%85%D8%B4%D8%B1%D9%88%D8%B9-%D8%AF%D9%8A%D9%85%D9%88%D9%82%D8%B1%D8%A7%D8%B7%D9%8A-%D9%81%D9%8A-%D8%A7%D9%84%D9%83%D9%88%D9%86%D8%BA%D8%B1%D8%B3-%D8%A7%D9%84%D8%A3%D9%85%D8%B1%D9%8A%D9%83%D9%8A-%D9%84%D9%85%D8%B9%D8%A7%D9%82\")\n",
        "# print(doc.get_word_stats().most_common(10))"
      ]
    },
    {
      "cell_type": "markdown",
      "metadata": {
        "id": "Mfasp5XX8WZQ"
      },
      "source": [
        "## 1.5. [15] Crawling ##\n",
        "\n",
        "Method `crawl_generator()` is given starting url (`source`) and max depth of search. It should return a **generator** of `HtmlDocumentTextData` objects (return a document as soon as it is downloaded and parsed). You can benefit from `yield obj_name` python construction. Use `HtmlDocumentTextData.anchors` field to go deeper."
      ]
    },
    {
      "cell_type": "code",
      "execution_count": 36,
      "metadata": {
        "id": "OoXODLUK8WZQ"
      },
      "outputs": [],
      "source": [
        "from queue import Queue\n",
        "\n",
        "\n",
        "class Crawler:\n",
        "\n",
        "    def crawl_generator(self, source, depth=1):\n",
        "        # TODO return real crawling results. Don't forget to process failures\n",
        "        current_depth = 1\n",
        "        link_queue = Queue()\n",
        "        link_queue.put(source)\n",
        "        visited = set()\n",
        "        while current_depth <= depth:\n",
        "            next_link_queue = Queue()\n",
        "            print(f'All links: {link_queue.qsize()}')\n",
        "            print(f\"Current link depth: {current_depth}\")\n",
        "            while not link_queue.empty():\n",
        "                cur_link = link_queue.get()\n",
        "                print(f'Number of links left: {link_queue.qsize()}')\n",
        "                visited.add(cur_link)\n",
        "                try:\n",
        "                    cur_doc = HtmlDocumentTextData(cur_link)\n",
        "                    yield cur_doc\n",
        "                    for link_tuple in cur_doc.doc.anchors:\n",
        "                        if link_tuple[1] not in visited:\n",
        "                            next_link_queue.put(link_tuple[1])\n",
        "                except FileNotFoundError:\n",
        "                    continue\n",
        "            link_queue = next_link_queue\n",
        "            current_depth += 1"
      ]
    },
    {
      "cell_type": "markdown",
      "metadata": {
        "id": "47jkslao8WZR"
      },
      "source": [
        "### 1.5. Tests ###"
      ]
    },
    {
      "cell_type": "code",
      "execution_count": 38,
      "metadata": {
        "id": "6-bGLqU-8WZR",
        "colab": {
          "base_uri": "https://localhost:8080/"
        },
        "outputId": "c7456a9d-84e0-4bc4-e8d8-1dc4be7ce19a"
      },
      "outputs": [
        {
          "output_type": "stream",
          "name": "stdout",
          "text": [
            "All links: 1\n",
            "Current link depth: 1\n",
            "Number of links left: 0\n",
            "https://innopolis.university/en/\n",
            "368, distinct word(s) found so far\n",
            "All links: 51\n",
            "Current link depth: 2\n",
            "Number of links left: 50\n",
            "https://apply.innopolis.university/en\n",
            "1254, distinct word(s) found so far\n",
            "Number of links left: 49\n",
            "https://corporate.innopolis.university/en\n",
            "1434, distinct word(s) found so far\n",
            "Number of links left: 48\n",
            "https://media.innopolis.university/en\n",
            "1496, distinct word(s) found so far\n",
            "Number of links left: 47\n",
            "https://innopolis.university/lk/\n",
            "1867, distinct word(s) found so far\n",
            "Number of links left: 46\n",
            "https://innopolis.university/en/team-structure/\n",
            "1874, distinct word(s) found so far\n",
            "Number of links left: 45\n",
            "https://innopolis.university/en/team-structure/education-academics/\n",
            "1880, distinct word(s) found so far\n",
            "Number of links left: 44\n",
            "https://innopolis.university/en/team-structure/techcenters/\n",
            "1884, distinct word(s) found so far\n",
            "Number of links left: 43\n",
            "https://innopolis.university/en/faculty/\n",
            "3054, distinct word(s) found so far\n",
            "Number of links left: 42\n",
            "https://career.innopolis.university/en/job/\n",
            "3678, distinct word(s) found so far\n",
            "Number of links left: 41\n",
            "https://apply.innopolis.university/en/bachelor/CE/\n",
            "3760, distinct word(s) found so far\n",
            "Number of links left: 40\n",
            "https://apply.innopolis.university/en/bachelor/DS-AI/\n",
            "3793, distinct word(s) found so far\n",
            "Number of links left: 39\n",
            "https://apply.innopolis.university/en/master/datascience/\n",
            "3921, distinct word(s) found so far\n",
            "Number of links left: 38\n",
            "https://apply.innopolis.university/en/master/securityandnetworkengineering/\n",
            "3990, distinct word(s) found so far\n",
            "Number of links left: 37\n",
            "https://apply.innopolis.university/en/master/development/\n",
            "4067, distinct word(s) found so far\n",
            "Number of links left: 36\n",
            "https://apply.innopolis.university/en/master/robotics/\n",
            "4153, distinct word(s) found so far\n",
            "Number of links left: 35\n",
            "https://apply.innopolis.university/en/master/technological-entrepreneurship/\n",
            "4382, distinct word(s) found so far\n",
            "Number of links left: 34\n",
            "https://innopolis.university/en/incomingstudents/\n",
            "4454, distinct word(s) found so far\n",
            "Number of links left: 33\n",
            "https://innopolis.university/en/outgoingstudents/\n",
            "4800, distinct word(s) found so far\n",
            "Number of links left: 32\n",
            "https://innopolis.university/en/lab-operating-systems/\n",
            "4841, distinct word(s) found so far\n",
            "Number of links left: 31\n",
            "https://innopolis.university/en/lab-software-service-engineering/\n",
            "4947, distinct word(s) found so far\n",
            "Number of links left: 30\n",
            "https://innopolis.university/en/lab-industrializing-software/\n",
            "4992, distinct word(s) found so far\n",
            "Number of links left: 29\n",
            "https://innopolis.university/en/lab-bioinformatics/\n",
            "5040, distinct word(s) found so far\n",
            "Number of links left: 28\n",
            "https://innopolis.university/en/lab-game-development/\n",
            "5106, distinct word(s) found so far\n",
            "Number of links left: 27\n",
            "https://innopolis.university/en/lab-oil-gas/\n",
            "5155, distinct word(s) found so far\n",
            "Number of links left: 26\n",
            "https://innopolis.university/en/mlkr/\n",
            "5331, distinct word(s) found so far\n",
            "Number of links left: 25\n",
            "https://innopolis.university/en/lab-cyberphysical-systems/\n",
            "5374, distinct word(s) found so far\n",
            "Number of links left: 24\n",
            "https://innopolis.university/en/lab-networks-blockchain/\n",
            "5435, distinct word(s) found so far\n",
            "Number of links left: 23\n",
            "https://innopolis.university/en/lab-robotics/\n",
            "5540, distinct word(s) found so far\n",
            "Number of links left: 22\n",
            "https://innopolis.university/lk/\n",
            "5540, distinct word(s) found so far\n",
            "Number of links left: 21\n",
            "https://university.innopolis.ru/en/about/\n",
            "5628, distinct word(s) found so far\n",
            "Number of links left: 20\n",
            "https://apply.innopolis.university/en/bachelor/\n",
            "5648, distinct word(s) found so far\n",
            "Number of links left: 19\n",
            "https://apply.innopolis.university/en/master/\n",
            "5654, distinct word(s) found so far\n",
            "Number of links left: 18\n",
            "https://apply.innopolis.university/en/postgraduate-study/\n",
            "5728, distinct word(s) found so far\n",
            "Number of links left: 17\n",
            "http://www.campuslife.innopolis.ru\n",
            "5844, distinct word(s) found so far\n",
            "Number of links left: 16\n",
            "https://innopolis.university/en/international-relations-office/\n",
            "5865, distinct word(s) found so far\n",
            "Number of links left: 15\n",
            "https://innopolis.university/en/research/\n",
            "5903, distinct word(s) found so far\n",
            "Number of links left: 14\n",
            "https://www.facebook.com/InnopolisU\n",
            "5903, distinct word(s) found so far\n",
            "Number of links left: 13\n",
            "https://vk.com/innopolisu\n",
            "6184, distinct word(s) found so far\n",
            "Number of links left: 12\n",
            "https://www.youtube.com/user/InnopolisU\n",
            "6197, distinct word(s) found so far\n",
            "Number of links left: 11\n",
            "https://www.instagram.com/innopolisu/\n",
            "6197, distinct word(s) found so far\n",
            "Number of links left: 10\n",
            "https://apply.innopolis.ru/en/index.php\n",
            "6595, distinct word(s) found so far\n",
            "Number of links left: 9\n",
            "https://university.innopolis.ru/en/cooperation/\n",
            "6598, distinct word(s) found so far\n",
            "Number of links left: 8\n",
            "https://university.innopolis.ru/en/about/\n",
            "6598, distinct word(s) found so far\n",
            "Number of links left: 7\n",
            "https://career.innopolis.university/en/\n",
            "6813, distinct word(s) found so far\n",
            "Number of links left: 6\n",
            "https://panoroo.com/virtual-tours/NvQZM6B2\n",
            "6813, distinct word(s) found so far\n",
            "Number of links left: 5\n",
            "https://innopolis.university/en/contacts/\n",
            "6821, distinct word(s) found so far\n",
            "Number of links left: 4\n",
            "https://media.innopolis.university/en/news/\n",
            "6821, distinct word(s) found so far\n",
            "Number of links left: 3\n",
            "https://media.innopolis.university/en/events/\n",
            "6823, distinct word(s) found so far\n",
            "Number of links left: 2\n",
            "http://www.minsvyaz.ru/en/\n",
            "6887, distinct word(s) found so far\n",
            "Number of links left: 1\n",
            "[Errno 110] Connection timed out on http://минобрнауки.рф/\n",
            "Number of links left: 0\n",
            "'utf-8' codec can't decode byte 0xe2 in position 10: invalid continuation byte on https://innopolis.university/public/files/Consent_to_the_processing_of_PD_for_UI.pdf\n",
            "Done\n",
            "[('and', 2527), ('of', 2404), ('the', 1997), ('in', 1290), ('to', 897), ('university', 724), ('for', 647), ('a', 613), ('at', 402), ('research', 394), ('lab', 385), ('innopolis', 368), ('software', 362), ('science', 346), ('development', 337), ('with', 330), ('you', 322), ('it', 312), ('is', 295), ('data', 288)]\n"
          ]
        }
      ],
      "source": [
        "counter = Counter()\n",
        "crawler = Crawler()\n",
        "\n",
        "file_types = ('.pdf', '.mp3', '.avi', '.mp4', '.txt')\n",
        "url = \"https://innopolis.university/en/\"\n",
        "for c in crawler.crawl_generator(url, 2):\n",
        "    print(c.doc.url)\n",
        "    if c.doc.url[-4:] in file_types:\n",
        "        print(f\"Ignoring {c.doc.url}\")\n",
        "        continue\n",
        "    counter.update(c.get_word_stats())\n",
        "    print(f\"{len(counter)}, distinct word(s) found so far\")\n",
        "\n",
        "print(\"Done\")\n",
        "\n",
        "print(counter.most_common(20))\n",
        "assert [x for x in counter.most_common(\n",
        "    20) if x[0] == 'innopolis'], 'innopolis sould be among most common'\n"
      ]
    }
  ],
  "metadata": {
    "kernelspec": {
      "display_name": "Python 3",
      "language": "python",
      "name": "python3"
    },
    "language_info": {
      "codemirror_mode": {
        "name": "ipython",
        "version": 3
      },
      "file_extension": ".py",
      "mimetype": "text/x-python",
      "name": "python",
      "nbconvert_exporter": "python",
      "pygments_lexer": "ipython3",
      "version": "3.8.6"
    },
    "colab": {
      "name": "duthamlieu.ipynb",
      "provenance": [],
      "collapsed_sections": []
    }
  },
  "nbformat": 4,
  "nbformat_minor": 0
}